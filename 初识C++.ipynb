{
 "cells": [
  {
   "cell_type": "markdown",
   "id": "11bd528a-a94f-4db3-84b2-e16f1b57ad11",
   "metadata": {},
   "source": [
    "# **注释**"
   ]
  },
  {
   "cell_type": "markdown",
   "id": "f71f60e5-dffe-463f-8bb3-9e7953c3d071",
   "metadata": {},
   "source": [
    "**作用:** 在代码中加一些说明和解释，方便自己或其他人阅读代码\n",
    "\n",
    "**两种格式:**\n",
    "\n",
    "- **单行注释:** `// 描述信息`\n",
    "- **多行注释:** `/* 描述信息 */`\n",
    "\n",
    "**快捷方法:**\n",
    "- **注释:** 鼠标点击需要注释的代码或者选中需要注释的代码块，同时按下ctrl与/键，即可快速注释\n",
    "- **取消注释:** 删除//以及/**/或者用鼠标选中代码行，同时按下ctrl与/键，即可取消该行注释"
   ]
  },
  {
   "cell_type": "markdown",
   "id": "f2ddca7c-488c-4fdd-9a5b-dcc4acc193e6",
   "metadata": {},
   "source": [
    "# **Hello World**"
   ]
  },
  {
   "cell_type": "markdown",
   "id": "e47f4e39-1259-4607-81c7-271d911d33cc",
   "metadata": {},
   "source": [
    "```C++\n",
    "/*\n",
    "以下为一个C++代码通常需要包含的内容\n",
    "*/\n",
    "\n",
    "//将iostream文件的代码添加到此文件(头文件)\n",
    "#include<iostream>\n",
    "//使用标准命名空间\n",
    "using namespace std;\n",
    "//函数头\n",
    "int main(void){\n",
    "    //函数主体\n",
    "    //使用cout必须包含iostream头文件\n",
    "    //endl等价于\\n\n",
    "    cout << \"Hello World!\" << endl;\n",
    "    cout << \"\\nHello World!\";\n",
    "    //返回值\n",
    "    \n",
    "    return 0;\n",
    "}\n",
    "```"
   ]
  },
  {
   "cell_type": "markdown",
   "id": "0bfc3afd-da6d-48fa-9cd1-b6d4b5be2f3d",
   "metadata": {},
   "source": [
    "# **变量**"
   ]
  },
  {
   "cell_type": "markdown",
   "id": "0f7d4d50-978f-4880-a677-937c2eed3108",
   "metadata": {},
   "source": [
    "**作用:** 给一段指定的内存空间起名，方便操作这段内存\n",
    "\n",
    "**语法:** `数据类型 变量名 = 初始值;`"
   ]
  },
  {
   "cell_type": "markdown",
   "id": "2032539f-3520-43c6-a912-8ca89a75cf3c",
   "metadata": {},
   "source": [
    "# **常量**"
   ]
  },
  {
   "cell_type": "markdown",
   "id": "48190252-9e12-4cea-b5a0-dd2d58f48584",
   "metadata": {},
   "source": [
    "**作用:** 用于记录程序中不可更改的数据\n",
    "\n",
    "**语法:**\n",
    "\n",
    "- **define:** `#define 常量名 常量值`\n",
    "- **const:** `const 数据类型 常量名 = 常量值;`"
   ]
  },
  {
   "cell_type": "markdown",
   "id": "e9613939-a810-4837-917b-66d9b268e48b",
   "metadata": {},
   "source": [
    "# **关键字**"
   ]
  },
  {
   "cell_type": "markdown",
   "id": "dd914e9f-7ef9-4f3e-9501-9672078b5225",
   "metadata": {},
   "source": [
    "**作用:** 关键字是C++中预先保留的单词（标识符）\n",
    "\n",
    "**常见关键字:**\n",
    "| asm        | do           | if               | return      | typedef  |\n",
    "| ---------- | ------------ | ---------------- | ----------- | -------- |\n",
    "| auto       | double       | inline           | short       | typeid   |\n",
    "| bool       | dynamic_cast | int              | signed      | typename |\n",
    "| break      | else         | long             | sizeof      | union    |\n",
    "| case       | enum         | mutable          | static      | unsigned |\n",
    "| catch      | explicit     | namespace        | static_cast | using    |\n",
    "| char       | export       | new              | struct      | virtual  |\n",
    "| class      | extern       | operator         | switch      | void     |\n",
    "| const      | false        | private          | template    | volatile |\n",
    "| const_cast | float        | protected        | this        | wchar_t  |\n",
    "| continue   | for          | public           | throw       | while    |\n",
    "| default    | friend       | register         | true        |          |\n",
    "| delete     | goto         | reinterpret_cast | try         |          |\n"
   ]
  },
  {
   "cell_type": "markdown",
   "id": "fdeb6361-794f-4476-8834-dde79821b54a",
   "metadata": {},
   "source": [
    "# **标识符**"
   ]
  },
  {
   "cell_type": "markdown",
   "id": "dda54be0-4cbd-4a22-9bde-103cd5b9035a",
   "metadata": {},
   "source": [
    "**作用:** 给变量、常量以及其它C++内部的事物命名时给予一定的标准\n",
    "\n",
    "**规则:**\n",
    "\n",
    "- 标识符不能是关键字\n",
    "- 标识符只能由字母、数字、下划线组成\n",
    "- 第一个字符必须为字母或下划线\n",
    "- 标识符中字母区分大小写"
   ]
  }
 ],
 "metadata": {
  "kernelspec": {
   "display_name": "ROOT C++",
   "language": "c++",
   "name": "root"
  },
  "language_info": {
   "codemirror_mode": "text/x-c++src",
   "file_extension": ".C",
   "mimetype": " text/x-c++src",
   "name": "c++"
  }
 },
 "nbformat": 4,
 "nbformat_minor": 5
}
